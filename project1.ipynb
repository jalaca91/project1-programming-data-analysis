{
 "cells": [
  {
   "cell_type": "markdown",
   "metadata": {},
   "source": [
    "# Project 1\n",
    "This jupyter notebook contains the first project for the programming and data analytics module"
   ]
  },
  {
   "cell_type": "markdown",
   "metadata": {},
   "source": [
    "##  Index\n",
    "\n",
    "1. [Objetives](#objetives)\n",
    "2. [Used_technologies](#used-technologies)\n",
    "3. [Theme of the project](#theme-of-the-project)\n",
    "4. [Variables](#variables)\n",
    "5. [Creation of the database](#creation-of-the-database)\n",
    "6. [Analysis](#analysis)\n",
    "7. [Conclusions](#conclusions)\n",
    "8. [References](#references)\n",
    "\n"
   ]
  },
  {
   "cell_type": "markdown",
   "metadata": {},
   "source": [
    "## Objetives\n",
    "\n",
    "Specifically, this project contains the following:\n",
    "\n",
    "1. A real-world phenomenon that can be measured and for which at least one hundred data points can be collected, with at least four different variables.\n",
    "2. Investigating the types of variables involved, their likely distributions, and their relationships to each other and to each other.\n",
    "3. Synthesize/simulate a data set as close as possible to its properties."
   ]
  },
  {
   "cell_type": "markdown",
   "metadata": {},
   "source": [
    "## Used technologies\n",
    "\n",
    "For this project I have to create a dataset simulating a real world phenomenon and model and synthesize that data using Python.\n",
    "For this purpose I use the numpy.random package in addition to other packages such as matplotlib to visualize and model the data.\n",
    "The programming language used in this notebook is Python.\n",
    "\n",
    "You can find information about these technologies in the following links:\n",
    "\n",
    "https://numpy.org/doc/stable/reference/random/index.html# \n",
    "\n",
    "https://matplotlib.org/stable/tutorials/index.html\n",
    "\n",
    "https://docs.python.org/3/\n",
    "\n",
    "https://docs.python.org/3/library/statistics.html\n",
    "\n",
    "\n"
   ]
  },
  {
   "cell_type": "markdown",
   "metadata": {},
   "source": [
    "## Theme of the project\n",
    "\n",
    "For the elaboration of the project I have chosen as the main topic walking as a physical activity and its relation with health.\n",
    "\n",
    "Walking is a basic and inherent human activity; it was our main transportation mechanism. We did it out of necessity, not by will, since in ancient times our ancestors were hunter-gatherer societies.\n",
    "Nowadays we can get an idea of this lifestyle based on current primitive societies, such as the Hazda[1] who underwent a study[2] to observe how many daily steps they took, with a daily estimate of 9 km for women and 15 km for men.\n",
    "\n",
    "With the advent of industrialization, with the invention of cars, office jobs and elevators all this changed. We humans became more sedentary due to our changing lifestyles.\n",
    "\n",
    "We used to spend a large part of the day on the move and now through our mobile phone we can order food without any dose of movement. \n",
    "This lack of movement, along with the intake of industrial and processed foods and bad habits, has had a negative impact on health.  \n",
    "According to the following study[3] from the National Health and Nutrition Examination Survey (NHANES), nearly 1 in 3 adults (30.7%) are overweight and more than 2 in 5 adults (42.4%) are obese in the United States.  \n",
    "\n",
    "This raises awareness of the need to include physical activity in our lives, as there are many known benefits of walking:\n",
    "1. It is one of the easiest, most accessible and low-impact physical activities and does not require a large investment of money, apart from comfortable clothes and shoes.  \n",
    "2. It is good for the heart, as it lowers blood pressure.[4] \n",
    "3. Despite being a low intensity activity, it is good for weight loss. \n",
    "4. It is good for managing stress and improving creativity.[5] \n",
    "\n",
    "The best known and most famous recommendation is to take 10,000 steps, originated in the 1960s by a pedometer called manpo-kei.\n",
    "However, there are numerous studies that indicate that with fewer steps, multiple benefits are already achieved, as explained in a meta-analysis presented by Lancet[6].  \n",
    "\n",
    "Based on the information presented and the research, for the creation of the database, I will use the following variables:\n",
    "1. Age\n",
    "2. Sex\n",
    "3. Number of daily steps\n",
    "4. Occupation (manual or non-manual work)\n",
    "5. Smoker (no or yes)\n",
    "6. BMI \n",
    "\n",
    "\n",
    "For our study we will take a population sample n= 100, i.e. we will have 100 observations of different subjects with different characteristics (age, sex...) that will compose our field of study.  \n",
    "\n",
    "The explanation of each variable can be found in the following section.  \n",
    "We will see what type of variable we are dealing with, whether it is discrete or continuous, and what distribution \n",
    "function applies to each variable, i.e. the way in which the values of a variable are spread or distributed in a sample or population.\n",
    "\n",
    "To do this, it will be necessary to first import the corresponding libraries that allow us to observe the graphs and generate these random numbers.  Importing these libraries will also help us to generate our database.  \n",
    "\n"
   ]
  },
  {
   "cell_type": "code",
   "execution_count": 1,
   "metadata": {},
   "outputs": [],
   "source": [
    "import numpy as np\n",
    "import statistics\n",
    "import matplotlib as plt\n"
   ]
  },
  {
   "cell_type": "markdown",
   "metadata": {},
   "source": [
    "## Variables\n",
    "\n",
    "### Age \n",
    "\n",
    "Age is a continuous numeric variable. Its is also a Interval;these are variables that  represent a numerical measurement on a continuous scale where the differences between values are significant and consistent. In the case of age, the numbers represent a continuous quantity of years, and the differences between ages are constant and meaningful.  \n",
    "\n",
    "For this project I have set an age range from 18 to 70 years old.  \n"
   ]
  },
  {
   "cell_type": "code",
   "execution_count": 2,
   "metadata": {},
   "outputs": [
    {
     "data": {
      "text/plain": [
       "array([34, 27, 34, 29, 59, 42, 64, 26, 59, 38, 68, 19, 53, 42, 43, 33, 19,\n",
       "       19, 37, 28, 41, 63, 54, 58, 43, 52, 69, 64, 45, 19, 53, 49, 54, 52,\n",
       "       48, 32, 18, 27, 22, 55, 21, 28, 23, 65, 50, 69, 19, 69, 54, 46, 55,\n",
       "       48, 69, 20, 23, 48, 61, 52, 52, 44, 42, 19, 29, 54, 68, 27, 33, 31,\n",
       "       29, 21, 20, 53, 30, 36, 46, 53, 43, 24, 35, 21, 64, 33, 35, 42, 35,\n",
       "       20, 47, 65, 40, 21, 47, 41, 18, 27, 44, 37, 36, 57, 23, 45])"
      ]
     },
     "execution_count": 2,
     "metadata": {},
     "output_type": "execute_result"
    }
   ],
   "source": [
    "# Generates a random set of ages, from 18 to 70 years old\n",
    "age = np.random.randint(18,70, 100)\n",
    "age"
   ]
  },
  {
   "cell_type": "markdown",
   "metadata": {},
   "source": [
    "## Creation of the database"
   ]
  },
  {
   "cell_type": "markdown",
   "metadata": {},
   "source": [
    "## Analysis"
   ]
  },
  {
   "cell_type": "markdown",
   "metadata": {},
   "source": [
    "## Conclusions"
   ]
  },
  {
   "cell_type": "markdown",
   "metadata": {},
   "source": [
    "## References\n",
    "\n",
    "[1] https://education.nationalgeographic.org/resource/hadza/  \n",
    "[2] https://www.nature.com/articles/s41562-020-01002-7  \n",
    "[3] https://www.niddk.nih.gov/health-information/health-statistics/overweight-obesity  \n",
    "[4] https://ajcn.nutrition.org/article/S0002-9165(23)23351-1/fulltext  \n",
    "[5] https://news.stanford.edu/2014/04/24/walking-vs-sitting-042414/  \n",
    "[6] https://www.thelancet.com/journals/lanpub/article/PIIS2468-2667(21)00302-9/fulltext#seccestitle140  \n"
   ]
  }
 ],
 "metadata": {
  "kernelspec": {
   "display_name": "base",
   "language": "python",
   "name": "python3"
  },
  "language_info": {
   "codemirror_mode": {
    "name": "ipython",
    "version": 3
   },
   "file_extension": ".py",
   "mimetype": "text/x-python",
   "name": "python",
   "nbconvert_exporter": "python",
   "pygments_lexer": "ipython3",
   "version": "3.10.13"
  }
 },
 "nbformat": 4,
 "nbformat_minor": 2
}
