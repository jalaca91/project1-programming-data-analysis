{
 "cells": [
  {
   "cell_type": "markdown",
   "metadata": {},
   "source": [
    "# Project 1\n",
    "This jupyter notebook contains the first project for the programming and data analytics module"
   ]
  },
  {
   "cell_type": "markdown",
   "metadata": {},
   "source": [
    "##  Index\n",
    "\n",
    "1. [Objetives](#objetives)\n",
    "2. [Used technologies](#used-technologies)\n",
    "3. [Theme of the project](#theme-of-the-project)\n",
    "4. [Variables](#variables)\n",
    "5. [Creation of the database](#creation-of-the-database)\n",
    "6. [Analysis](#analysis)\n",
    "7. [Conclusions](#conclusions)\n",
    "8. [References](#references)\n",
    "\n"
   ]
  },
  {
   "cell_type": "markdown",
   "metadata": {},
   "source": [
    "***\n",
    "\n",
    "## Objetives\n",
    "\n",
    "Specifically, this project contains the following:\n",
    "\n",
    "1. A real-world phenomenon that can be measured and for which at least one hundred data points can be collected, with at least four different variables.\n",
    "2. Investigating the types of variables involved, their likely distributions, and their relationships to each other and to each other.\n",
    "3. Synthesize/simulate a data set as close as possible to its properties."
   ]
  },
  {
   "cell_type": "markdown",
   "metadata": {},
   "source": [
    "***\n",
    "\n",
    "## Used technologies\n",
    "\n",
    "For this project I have to create a dataset simulating a real world phenomenon and model and synthesize that data using Python.\n",
    "For this purpose I use pandas and the numpy.random package in addition to other packages such as matplotlib to visualize and \n",
    "model the data.\n",
    "The programming language used in this notebook is Python.\n",
    "\n",
    "You can find information about these technologies in the following links:\n",
    "\n",
    "https://numpy.org/doc/stable/reference/random/index.html# \n",
    "\n",
    "https://matplotlib.org/stable/tutorials/index.html\n",
    "\n",
    "https://docs.python.org/3/library/statistics.html\n",
    "\n",
    "https://pandas.pydata.org/\n",
    "\n",
    "\n",
    "\n"
   ]
  },
  {
   "cell_type": "markdown",
   "metadata": {},
   "source": [
    "***\n",
    "\n",
    "## Theme of the project\n",
    "\n",
    "For the elaboration of the project I have chosen as the main topic walking as a physical activity and its relation with health.\n",
    "\n",
    "Walking is a basic and inherent human activity; it was our main transportation mechanism. We did it out of necessity, not by will, since in ancient times our ancestors were hunter-gatherer societies.\n",
    "Nowadays we can get an idea of this lifestyle based on current primitive societies, such as the Hazda[1] who underwent a study[2] to observe how many daily steps they took, with a daily estimate of 9 km for women and 15 km for men.\n",
    "\n",
    "With the advent of industrialization, with the invention of cars, office jobs and elevators all this changed. We humans became more sedentary due to our changing lifestyles.\n",
    "\n",
    "We used to spend a large part of the day on the move and now through our mobile phone we can order food without any dose of movement. \n",
    "This lack of movement, along with the intake of industrial and processed foods and bad habits, has had a negative impact on health.  \n",
    "According to the following study[3] from the National Health and Nutrition Examination Survey (NHANES), nearly 1 in 3 adults (30.7%) are overweight and more than 2 in 5 adults (42.4%) are obese in the United States.  \n",
    "\n",
    "This raises awareness of the need to include physical activity in our lives, as there are many known benefits of walking:\n",
    "1. It is one of the easiest, most accessible and low-impact physical activities and does not require a large investment of money, apart from comfortable clothes and shoes.  \n",
    "2. It is good for the heart, as it lowers blood pressure.[4] \n",
    "3. Despite being a low intensity activity, it is good for weight loss. \n",
    "4. It is good for managing stress and improving creativity.[5] \n",
    "\n",
    "The best known and most famous recommendation is to take 10,000 steps, originated in the 1960s by a pedometer called manpo-kei.\n",
    "However, there are numerous studies that indicate that with fewer steps, multiple benefits are already achieved, as explained in a meta-analysis presented by Lancet[6].  \n",
    "\n",
    "Based on the information presented and the research, for the creation of the database, I will use the following variables:\n",
    "1. Age\n",
    "2. Sex\n",
    "3. Number of daily steps\n",
    "4. Occupation (manual or non-manual work)\n",
    "5. Smoker (no or yes)\n",
    "6. BMI \n",
    "\n",
    "\n",
    "For our study we will take a population sample n= 100, i.e. we will have 100 observations of different subjects with different characteristics (age, sex...) that will compose our field of study.  \n",
    "\n",
    "The explanation of each variable can be found in the following section.  \n",
    "We will see what type of variable we are dealing with, whether it is discrete or continuous, and what distribution \n",
    "function applies to each variable, i.e. the way in which the values of a variable are spread or distributed in a sample or population.\n",
    "\n",
    "To do this, it will be necessary to first import the corresponding libraries that allow us to observe the graphs and generate these random numbers.  Importing these libraries will also help us to generate our database.  \n",
    "\n"
   ]
  },
  {
   "cell_type": "code",
   "execution_count": 1,
   "metadata": {},
   "outputs": [],
   "source": [
    "import numpy as np\n",
    "import pandas as pd\n",
    "import statistics\n",
    "import matplotlib.pyplot as plt\n"
   ]
  },
  {
   "cell_type": "markdown",
   "metadata": {},
   "source": [
    "***\n",
    "\n",
    "## Variables\n",
    "\n",
    "### **Age** \n",
    "\n",
    "Age is a continuous numeric variable. Its is also a Interval;these are variables that  represent a numerical measurement on a continuous scale where the differences between values are significant and consistent. In the case of age, the numbers represent a continuous quantity of years, and the differences between ages are constant and meaningful.  \n",
    "\n",
    "For this project I have set an age range from 18 to 70 years old.  \n"
   ]
  },
  {
   "cell_type": "markdown",
   "metadata": {},
   "source": [
    "First of all, before generating all random variables, it is recommended to use the \"seed\" feature. By passing an integer as an argument to seed(), this will generate the same sequence of random numbers, a useful feature for reproducibility of results and so that the samples do not vary each time our code is run.\n"
   ]
  },
  {
   "cell_type": "code",
   "execution_count": 2,
   "metadata": {},
   "outputs": [
    {
     "data": {
      "text/plain": [
       "array([55, 61, 30, 26, 27, 29, 23, 33, 18, 34, 19, 30, 25, 63, 24, 43, 68,\n",
       "       38, 55, 36, 38, 29, 60, 46, 47, 32, 68, 22, 41, 41, 59, 67, 48, 50,\n",
       "       40, 31, 59, 27, 25, 40, 19, 18, 35, 26, 42, 31, 69, 65, 60, 26, 48,\n",
       "       25, 21, 24, 39, 67, 21, 22, 42, 67, 61, 30, 44, 34, 63, 69, 59, 36,\n",
       "       33, 18, 22, 43, 65, 52, 41, 25, 44, 43, 58, 40, 27, 21, 57, 41, 54,\n",
       "       45, 55, 37, 56, 26, 50, 52, 28, 41, 33, 65, 41, 43, 25, 69])"
      ]
     },
     "execution_count": 2,
     "metadata": {},
     "output_type": "execute_result"
    }
   ],
   "source": [
    "np.random.seed(1)\n",
    "\n",
    "# Generates a random set of ages, from 18 to 70 years old\n",
    "age = np.random.randint(18,70, 100)\n",
    "age"
   ]
  },
  {
   "cell_type": "markdown",
   "metadata": {},
   "source": [
    "We have generated a matrix n = 100 with values between 18 and 70 and we can observe the randomness by seeing how many times the maximum and minimum values are repeated."
   ]
  },
  {
   "cell_type": "code",
   "execution_count": 3,
   "metadata": {},
   "outputs": [
    {
     "name": "stdout",
     "output_type": "stream",
     "text": [
      "The minimum value is: 18\n",
      "The maximum value is: 69\n"
     ]
    }
   ],
   "source": [
    "min_value = min(age)\n",
    "max_value = max(age)\n",
    "\n",
    "print(f\"The minimum value is: {min_value}\")\n",
    "print(f\"The maximum value is: {max_value}\")"
   ]
  },
  {
   "cell_type": "markdown",
   "metadata": {},
   "source": [
    "We can observe that given n = 100 the minimum number appears (18) but not the maximum number (70). Using the following code we can count how many times the minimum value appears."
   ]
  },
  {
   "cell_type": "code",
   "execution_count": 4,
   "metadata": {},
   "outputs": [
    {
     "name": "stdout",
     "output_type": "stream",
     "text": [
      "3\n"
     ]
    }
   ],
   "source": [
    "count = 0\n",
    "for num in age:\n",
    "    if num == 18:\n",
    "        count += 1\n",
    "print(count)        "
   ]
  },
  {
   "cell_type": "markdown",
   "metadata": {},
   "source": [
    "The minimum value is repeated 3 times. \n",
    "In case of generating a larger sample, possibly the highest value will be generated, as the random function assumes a uniform distribution, meaning that each integer within the range has the same probability of being selected."
   ]
  },
  {
   "cell_type": "markdown",
   "metadata": {},
   "source": [
    "For this random set of data, we can obtain the mean and the standard deviation to get more information.\n",
    "\n",
    "1. The mean is the average value of a set of numbers, obtained by adding up all the values and dividing by the total number of elements.\n",
    "\n",
    "2. The standard deviation measures how dispersed the values are with respect to the mean; it is the square root of the variance and provides a measure of the variability in a data set."
   ]
  },
  {
   "cell_type": "code",
   "execution_count": 5,
   "metadata": {},
   "outputs": [
    {
     "data": {
      "text/plain": [
       "41.2"
      ]
     },
     "execution_count": 5,
     "metadata": {},
     "output_type": "execute_result"
    }
   ],
   "source": [
    "# Average age of the sample\n",
    "np.mean(age)\n"
   ]
  },
  {
   "cell_type": "code",
   "execution_count": 6,
   "metadata": {},
   "outputs": [
    {
     "data": {
      "text/plain": [
       "15.228919856641179"
      ]
     },
     "execution_count": 6,
     "metadata": {},
     "output_type": "execute_result"
    }
   ],
   "source": [
    "# Standard deviation of the sample\n",
    "np.std(age)"
   ]
  },
  {
   "cell_type": "markdown",
   "metadata": {},
   "source": [
    "We can try to see the distribution by means of a histogram, for this, having n = 100, we can use different bins.\n",
    "Each interval is represented as a bar whose height corresponds to how many data points are in that interval.\n",
    "We will choose 4 ( 20, 40, 60 and 80)."
   ]
  },
  {
   "cell_type": "code",
   "execution_count": 7,
   "metadata": {},
   "outputs": [
    {
     "data": {
      "image/png": "[encoded data removed]",
      "text/plain": [
       "<Figure size 1000x600 with 4 Axes>"
      ]
     },
     "metadata": {},
     "output_type": "display_data"
    }
   ],
   "source": [
    "bins_values = [20, 40, 60, 80]\n",
    "\n",
    "fig = plt.figure(figsize=(10, 6))\n",
    "\n",
    "for i, bins in enumerate(bins_values, 1):\n",
    "    ax = fig.add_subplot(2, 2, i)    # The subgraph grid will be 2 rows and 2 columns\n",
    "    ax.hist(age, bins=bins)\n",
    "    ax.set_title(f\"Bins={bins}\")\n",
    "\n",
    "plt.tight_layout()\n",
    "plt.show()"
   ]
  },
  {
   "cell_type": "markdown",
   "metadata": {},
   "source": [
    "As we can see, a bin around 40 is the highest (which corresponds to our average). However, it is difficult to conclude at a glance that this is a normal distribution, so we can construct another histogram using the mean, the standard deviation and the sample number.\n"
   ]
  },
  {
   "cell_type": "code",
   "execution_count": 8,
   "metadata": {},
   "outputs": [
    {
     "data": {
      "image/png": "[encoded data removed]",
      "text/plain": [
       "<Figure size 640x480 with 1 Axes>"
      ]
     },
     "metadata": {},
     "output_type": "display_data"
    }
   ],
   "source": [
    "age = pd.DataFrame(np.random.normal(41.2, 15.22, 100), columns=[\"Age\"]) # Mean is 41.2 std is 15.22 n=100 \n",
    "plt.hist(age[\"Age\"], color=\"blue\", edgecolor=\"black\")\n",
    "\n",
    "plt.title(\"Age distribution\")\n",
    "plt.xlabel(\"Age in years\")\n",
    "plt.ylabel(\"Frequency\")\n",
    "\n",
    "plt.show()\n"
   ]
  },
  {
   "cell_type": "markdown",
   "metadata": {},
   "source": [
    "In this graph, the characteristic bell shape of the normal distribution can be better appreciated.\n",
    "For this randomly generated data, we have more variables in the middle zone than at the extremes."
   ]
  },
  {
   "cell_type": "markdown",
   "metadata": {},
   "source": [
    "### **Sex** "
   ]
  },
  {
   "cell_type": "markdown",
   "metadata": {},
   "source": [
    "Sex is a categorical variable representing gender, with two distinct categories: 'Male' and 'Female'.\n",
    "This variable provides a non-continuous distinction between two distinct genders. \n",
    "The variable is nominal, indicating there is no inherent order or numerical significance between the categories; each value represents a distinct and exclusive classification."
   ]
  },
  {
   "cell_type": "markdown",
   "metadata": {},
   "source": [
    "Generate a random sample of 100 items for the sex variable:"
   ]
  },
  {
   "cell_type": "code",
   "execution_count": 9,
   "metadata": {},
   "outputs": [
    {
     "name": "stdout",
     "output_type": "stream",
     "text": [
      "['male' 'female' 'male' 'female' 'male' 'female' 'male' 'male' 'male'\n",
      " 'male' 'male' 'male' 'female' 'male' 'male' 'male' 'female' 'male'\n",
      " 'female' 'female' 'male' 'male' 'female' 'female' 'male' 'female' 'male'\n",
      " 'female' 'male' 'female' 'female' 'male' 'male' 'female' 'male' 'male'\n",
      " 'male' 'male' 'male' 'female' 'female' 'male' 'male' 'female' 'female'\n",
      " 'female' 'female' 'male' 'female' 'male' 'female' 'male' 'male' 'female'\n",
      " 'male' 'female' 'male' 'female' 'male' 'male' 'male' 'male' 'female'\n",
      " 'male' 'male' 'female' 'female' 'female' 'female' 'female' 'male' 'male'\n",
      " 'male' 'female' 'male' 'female' 'female' 'male' 'female' 'female' 'male'\n",
      " 'male' 'female' 'female' 'male' 'female' 'female' 'female' 'female'\n",
      " 'male' 'female' 'male' 'male' 'male' 'male' 'male' 'female' 'male' 'male'\n",
      " 'male']\n"
     ]
    }
   ],
   "source": [
    "sex_variable = [\"male\", \"female\"]\n",
    "sex = np.random.choice(sex_variable, size=100)\n",
    "print(sex)"
   ]
  },
  {
   "cell_type": "markdown",
   "metadata": {},
   "source": [
    "Now we can see how many of those 100 samples are male and how many are female with the following code block:"
   ]
  },
  {
   "cell_type": "code",
   "execution_count": 10,
   "metadata": {},
   "outputs": [
    {
     "name": "stdout",
     "output_type": "stream",
     "text": [
      "Total 'male': 56\n",
      "Total 'female': 44\n"
     ]
    }
   ],
   "source": [
    "male_count = np.count_nonzero(sex == \"male\")\n",
    "female_count = np.count_nonzero(sex == \"female\")\n",
    "\n",
    "print(f\"Total 'male': {male_count}\")\n",
    "print(f\"Total 'female': {female_count}\")"
   ]
  },
  {
   "cell_type": "markdown",
   "metadata": {},
   "source": [
    "We have then that under equiprobability conditions, i.e., both have the same probability of coming out (like flipping a coin), we obtain that 56% of the observations are male and 44% are female."
   ]
  },
  {
   "cell_type": "markdown",
   "metadata": {},
   "source": [
    "## Creation of the database"
   ]
  },
  {
   "cell_type": "code",
   "execution_count": null,
   "metadata": {},
   "outputs": [],
   "source": []
  },
  {
   "cell_type": "markdown",
   "metadata": {},
   "source": [
    "## Analysis"
   ]
  },
  {
   "cell_type": "markdown",
   "metadata": {},
   "source": [
    "## Conclusions"
   ]
  },
  {
   "cell_type": "markdown",
   "metadata": {},
   "source": [
    "## References\n",
    "\n",
    "[1] https://education.nationalgeographic.org/resource/hadza/  \n",
    "[2] https://www.nature.com/articles/s41562-020-01002-7  \n",
    "[3] https://www.niddk.nih.gov/health-information/health-statistics/overweight-obesity  \n",
    "[4] https://ajcn.nutrition.org/article/S0002-9165(23)23351-1/fulltext  \n",
    "[5] https://news.stanford.edu/2014/04/24/walking-vs-sitting-042414/  \n",
    "[6] https://www.thelancet.com/journals/lanpub/article/PIIS2468-2667(21)00302-9/fulltext#seccestitle140  \n"
   ]
  }
 ],
 "metadata": {
  "kernelspec": {
   "display_name": "base",
   "language": "python",
   "name": "python3"
  },
  "language_info": {
   "codemirror_mode": {
    "name": "ipython",
    "version": 3
   },
   "file_extension": ".py",
   "mimetype": "text/x-python",
   "name": "python",
   "nbconvert_exporter": "python",
   "pygments_lexer": "ipython3",
   "version": "3.10.13"
  }
 },
 "nbformat": 4,
 "nbformat_minor": 2
}
