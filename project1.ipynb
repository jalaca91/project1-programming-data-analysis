{
 "cells": [
  {
   "cell_type": "markdown",
   "metadata": {},
   "source": [
    "# Project 1\n",
    "This jupyter notebook contains the first project for the programming and data analytics module"
   ]
  },
  {
   "cell_type": "markdown",
   "metadata": {},
   "source": [
    "For this project I have to create a dataset simulating a real world phenomenon and model and synthesize that data using Python.\n",
    "For this I use the numpy.random package in addition to other packages such as matplotlib to visualize and model the data.\n",
    "The programming language used in this notebook is Python.\n",
    "\n",
    "You can find information about these technologies in the following links:\n",
    "\n",
    "https://numpy.org/doc/stable/reference/random/index.html# \n",
    "\n",
    "https://matplotlib.org/stable/tutorials/index.html\n",
    "\n",
    "https://docs.python.org/3/\n",
    "\n",
    "\n"
   ]
  },
  {
   "cell_type": "markdown",
   "metadata": {},
   "source": []
  }
 ],
 "metadata": {
  "kernelspec": {
   "display_name": "base",
   "language": "python",
   "name": "python3"
  },
  "language_info": {
   "name": "python",
   "version": "3.10.13"
  }
 },
 "nbformat": 4,
 "nbformat_minor": 2
}
