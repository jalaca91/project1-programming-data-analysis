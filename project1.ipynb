{
 "cells": [
  {
   "cell_type": "markdown",
   "metadata": {},
   "source": [
    "# Project 1\n",
    "This jupyter notebook contains the first project for the programming and data analytics module"
   ]
  },
  {
   "cell_type": "markdown",
   "metadata": {},
   "source": [
    "##  Index\n",
    "\n",
    "1. [Objetives](#objetives)\n",
    "2. [Used technologies](#used-technologies)\n",
    "3. [Theme of the project](#theme-of-the-project)\n",
    "4. [Variables](#variables)\n",
    "5. [Creation of the database](#creation-of-the-database)\n",
    "6. [Analysis](#analysis)\n",
    "7. [Conclusions](#conclusions)\n",
    "8. [References](#references)\n",
    "\n"
   ]
  },
  {
   "cell_type": "markdown",
   "metadata": {},
   "source": [
    "***\n",
    "\n",
    "## Objetives\n",
    "\n",
    "Specifically, this project contains the following:\n",
    "\n",
    "1. A real-world phenomenon that can be measured and for which at least one hundred data points can be collected, with at least four different variables.\n",
    "2. Investigating the types of variables involved, their likely distributions, and their relationships to each other and to each other.\n",
    "3. Synthesize/simulate a data set as close as possible to its properties."
   ]
  },
  {
   "cell_type": "markdown",
   "metadata": {},
   "source": [
    "***\n",
    "\n",
    "## Used technologies\n",
    "\n",
    "For this project I have to create a dataset simulating a real world phenomenon and model and synthesize that data using Python.\n",
    "For this purpose I use pandas and the numpy.random package in addition to other packages such as matplotlib to visualize and \n",
    "model the data.\n",
    "The programming language used in this notebook is Python.\n",
    "\n",
    "You can find information about these technologies in the following links:\n",
    "\n",
    "https://numpy.org/doc/stable/reference/random/index.html# \n",
    "\n",
    "https://matplotlib.org/stable/tutorials/index.html\n",
    "\n",
    "https://docs.python.org/3/library/statistics.html\n",
    "\n",
    "https://pandas.pydata.org/\n",
    "\n",
    "\n",
    "\n"
   ]
  },
  {
   "cell_type": "markdown",
   "metadata": {},
   "source": [
    "***\n",
    "\n",
    "## Theme of the project\n",
    "\n",
    "For the elaboration of the project I have chosen as the main topic walking as a physical activity and its relation with health.\n",
    "\n",
    "Walking is a basic and inherent human activity; it was our main transportation mechanism. We did it out of necessity, not by will, since in ancient times our ancestors were hunter-gatherer societies.\n",
    "Nowadays we can get an idea of this lifestyle based on current primitive societies, such as the Hazda[1] who underwent a study[2] to observe how many daily steps they took, with a daily estimate of 9 km for women and 15 km for men.\n",
    "\n",
    "With the advent of industrialization, with the invention of cars, office jobs and elevators all this changed. We humans became more sedentary due to our changing lifestyles.\n",
    "\n",
    "We used to spend a large part of the day on the move and now through our mobile phone we can order food without any dose of movement. \n",
    "This lack of movement, along with the intake of industrial and processed foods and bad habits, has had a negative impact on health.  \n",
    "According to the following study[3] from the National Health and Nutrition Examination Survey (NHANES), nearly 1 in 3 adults (30.7%) are overweight and more than 2 in 5 adults (42.4%) are obese in the United States.  \n",
    "\n",
    "This raises awareness of the need to include physical activity in our lives, as there are many known benefits of walking:\n",
    "1. It is one of the easiest, most accessible and low-impact physical activities and does not require a large investment of money, apart from comfortable clothes and shoes.  \n",
    "2. It is good for the heart, as it lowers blood pressure.[4] \n",
    "3. Despite being a low intensity activity, it is good for weight loss. \n",
    "4. It is good for managing stress and improving creativity.[5] \n",
    "\n",
    "The best known and most famous recommendation is to take 10,000 steps, originated in the 1960s by a pedometer called manpo-kei.\n",
    "However, there are numerous studies that indicate that with fewer steps, multiple benefits are already achieved, as explained in a meta-analysis presented by Lancet[6].  \n",
    "\n",
    "Based on the information presented and the research, for the creation of the database, I will use the following variables:\n",
    "1. Age\n",
    "2. Sex\n",
    "3. Smoker (no or yes)\n",
    "4. Occupation (manual or non-manual work)\n",
    "5. Number of daily steps\n",
    "\n",
    "\n",
    "For our study we will take a population sample n= 100, i.e. we will have 100 observations of different subjects with different characteristics (age, sex...) that will compose our field of study.  \n",
    "\n",
    "The explanation of each variable can be found in the following section.  \n",
    "We will see what type of variable we are dealing with, whether it is discrete or continuous, and what distribution \n",
    "function applies to each variable, i.e. the way in which the values of a variable are spread or distributed in a sample or population.\n",
    "\n",
    "To do this, it will be necessary to first import the corresponding libraries that allow us to observe the graphs and generate these random numbers.  Importing these libraries will also help us to generate our database.  \n",
    "\n"
   ]
  },
  {
   "cell_type": "code",
   "execution_count": 1,
   "metadata": {},
   "outputs": [],
   "source": [
    "import numpy as np\n",
    "import pandas as pd\n",
    "import statistics\n",
    "import matplotlib.pyplot as plt\n"
   ]
  },
  {
   "cell_type": "markdown",
   "metadata": {},
   "source": [
    "***\n",
    "\n",
    "## Variables\n",
    "\n",
    "### **Age** \n",
    "\n",
    "Age is a continuous numeric variable. Its is also a Interval;these are variables that  represent a numerical measurement on a continuous scale where the differences between values are significant and consistent. In the case of age, the numbers represent a continuous quantity of years, and the differences between ages are constant and meaningful.  \n",
    "\n",
    "For this project I have set an age range from 18 to 70 years old.  \n"
   ]
  },
  {
   "cell_type": "markdown",
   "metadata": {},
   "source": [
    "First of all, before generating all random variables, it is recommended to use the \"seed\" feature. By passing an integer as an argument to seed(), this will generate the same sequence of random numbers, a useful feature for reproducibility of results and so that the samples do not vary each time our code is run.\n"
   ]
  },
  {
   "cell_type": "code",
   "execution_count": 2,
   "metadata": {},
   "outputs": [
    {
     "data": {
      "text/plain": [
       "array([55, 61, 30, 26, 27, 29, 23, 33, 18, 34, 19, 30, 25, 63, 24, 43, 68,\n",
       "       38, 55, 36, 38, 29, 60, 46, 47, 32, 68, 22, 41, 41, 59, 67, 48, 50,\n",
       "       40, 31, 59, 27, 25, 40, 19, 18, 35, 26, 42, 31, 69, 65, 60, 26, 48,\n",
       "       25, 21, 24, 39, 67, 21, 22, 42, 67, 61, 30, 44, 70, 34, 63, 69, 59,\n",
       "       36, 33, 18, 22, 43, 65, 52, 41, 25, 44, 43, 58, 40, 27, 21, 57, 41,\n",
       "       54, 45, 55, 37, 56, 26, 50, 52, 28, 41, 33, 65, 41, 43, 25])"
      ]
     },
     "execution_count": 2,
     "metadata": {},
     "output_type": "execute_result"
    }
   ],
   "source": [
    "np.random.seed(1)\n",
    "\n",
    "# Generates a random set of ages, from 18 to 70 years old\n",
    "age = np.random.randint(18,71, 100)\n",
    "age"
   ]
  },
  {
   "cell_type": "markdown",
   "metadata": {},
   "source": [
    "To divide this variable into 2 age groups, we generate the following code.  The result will be used later to establish its relationship with the variable number of steps."
   ]
  },
  {
   "cell_type": "code",
   "execution_count": 3,
   "metadata": {},
   "outputs": [
    {
     "name": "stdout",
     "output_type": "stream",
     "text": [
      "Over 60 years old: 15\n",
      "Under 60 years old: 83\n"
     ]
    }
   ],
   "source": [
    "divided_ages =age\n",
    "\n",
    "over_60 = np.count_nonzero(divided_ages > 60)\n",
    "under_60 = np.count_nonzero(divided_ages < 60)\n",
    "\n",
    "print(f\"Over 60 years old: {over_60}\")\n",
    "print(f\"Under 60 years old: {under_60}\")"
   ]
  },
  {
   "cell_type": "markdown",
   "metadata": {},
   "source": [
    "We have generated a matrix n = 100 with values between 18 and 70 and we can observe the randomness by seeing how many times the maximum and minimum values are repeated."
   ]
  },
  {
   "cell_type": "code",
   "execution_count": 4,
   "metadata": {},
   "outputs": [
    {
     "name": "stdout",
     "output_type": "stream",
     "text": [
      "The minimum value is: 18\n",
      "The maximum value is: 70\n"
     ]
    }
   ],
   "source": [
    "min_value = min(age)\n",
    "max_value = max(age)\n",
    "\n",
    "print(f\"The minimum value is: {min_value}\")\n",
    "print(f\"The maximum value is: {max_value}\")"
   ]
  },
  {
   "cell_type": "markdown",
   "metadata": {},
   "source": [
    "Using the following code we can count how many times the minimum value appears."
   ]
  },
  {
   "cell_type": "code",
   "execution_count": 5,
   "metadata": {},
   "outputs": [
    {
     "name": "stdout",
     "output_type": "stream",
     "text": [
      "3\n"
     ]
    }
   ],
   "source": [
    "count = 0\n",
    "for num in age:\n",
    "    if num == 18:\n",
    "        count += 1\n",
    "print(count)        "
   ]
  },
  {
   "cell_type": "markdown",
   "metadata": {},
   "source": [
    "The minimum value is repeated 3 times. \n",
    "In case of generating a larger sample, possibly the highest value will be generated, as the random function assumes a uniform distribution, meaning that each integer within the range has the same probability of being selected."
   ]
  },
  {
   "cell_type": "markdown",
   "metadata": {},
   "source": [
    "For this random set of data, we can obtain the mean and the standard deviation to get more information.\n",
    "\n",
    "1. The mean is the average value of a set of numbers, obtained by adding up all the values and dividing by the total number of elements.\n",
    "\n",
    "2. The standard deviation measures how dispersed the values are with respect to the mean; it is the square root of the variance and provides a measure of the variability in a data set."
   ]
  },
  {
   "cell_type": "code",
   "execution_count": 6,
   "metadata": {},
   "outputs": [
    {
     "data": {
      "text/plain": [
       "41.21"
      ]
     },
     "execution_count": 6,
     "metadata": {},
     "output_type": "execute_result"
    }
   ],
   "source": [
    "# Average age of the sample\n",
    "np.mean(age)"
   ]
  },
  {
   "cell_type": "code",
   "execution_count": 7,
   "metadata": {},
   "outputs": [
    {
     "data": {
      "text/plain": [
       "15.247488317752534"
      ]
     },
     "execution_count": 7,
     "metadata": {},
     "output_type": "execute_result"
    }
   ],
   "source": [
    "# Standard deviation of the sample\n",
    "np.std(age)"
   ]
  },
  {
   "cell_type": "markdown",
   "metadata": {},
   "source": [
    "We can try to see the distribution by means of a histogram, for this, having n = 100, we can use different bins.\n",
    "Each interval is represented as a bar whose height corresponds to how many data points are in that interval.\n",
    "We will choose 4 ( 20, 40, 60 and 80)."
   ]
  },
  {
   "cell_type": "code",
   "execution_count": 8,
   "metadata": {},
   "outputs": [
    {
     "data": {
      "image/png": "[encoded data removed]",
      "text/plain": [
       "<Figure size 1000x600 with 4 Axes>"
      ]
     },
     "metadata": {},
     "output_type": "display_data"
    }
   ],
   "source": [
    "bins_values = [20, 40, 60, 80]\n",
    "\n",
    "fig = plt.figure(figsize=(10, 6))\n",
    "\n",
    "for i, bins in enumerate(bins_values, 1):\n",
    "    ax = fig.add_subplot(2, 2, i)    # the subgraph grid will be 2 rows and 2 columns\n",
    "    ax.hist(age, bins=bins)\n",
    "    ax.set_title(f\"Bins={bins}\")\n",
    "\n",
    "plt.tight_layout()\n",
    "plt.show()"
   ]
  },
  {
   "cell_type": "markdown",
   "metadata": {},
   "source": [
    "As we can see, a bin around 40 is the highest (which corresponds to our average). However, it is difficult to conclude at a glance that this is a normal distribution, so we can construct another histogram using the mean, the standard deviation and the sample number.\n"
   ]
  },
  {
   "cell_type": "code",
   "execution_count": 9,
   "metadata": {},
   "outputs": [
    {
     "data": {
      "image/png": "[encoded data removed]",
      "text/plain": [
       "<Figure size 640x480 with 1 Axes>"
      ]
     },
     "metadata": {},
     "output_type": "display_data"
    }
   ],
   "source": [
    "age = pd.DataFrame(np.random.normal(41.2, 15.22, 100), columns=[\"Age\"]) # mean is 41.2 ,std is 15.22 ,n=100 \n",
    "plt.hist(age[\"Age\"], color=\"blue\", edgecolor=\"black\")\n",
    "\n",
    "plt.title(\"Age distribution\")\n",
    "plt.xlabel(\"Age in years\")\n",
    "plt.ylabel(\"Frequency\")\n",
    "\n",
    "plt.show()\n"
   ]
  },
  {
   "cell_type": "markdown",
   "metadata": {},
   "source": [
    "In this graph, the characteristic bell shape of the normal distribution can be better appreciated.\n",
    "For this randomly generated data, we have more variables in the middle zone than at the extremes."
   ]
  },
  {
   "cell_type": "markdown",
   "metadata": {},
   "source": [
    "### **Sex** "
   ]
  },
  {
   "cell_type": "markdown",
   "metadata": {},
   "source": [
    "Sex is a categorical variable representing gender, with two distinct categories: 'male' and 'female'.\n",
    "This variable provides a non-continuous distinction between two distinct genders. \n",
    "The variable is nominal, indicating there is no inherent order or numerical significance between the categories; each value represents a distinct and exclusive classification."
   ]
  },
  {
   "cell_type": "markdown",
   "metadata": {},
   "source": [
    "Generate a random sample of 100 items for the sex variable:"
   ]
  },
  {
   "cell_type": "code",
   "execution_count": 10,
   "metadata": {},
   "outputs": [
    {
     "name": "stdout",
     "output_type": "stream",
     "text": [
      "['male' 'male' 'male' 'male' 'male' 'female' 'male' 'male' 'male' 'female'\n",
      " 'male' 'female' 'female' 'male' 'male' 'female' 'female' 'male' 'female'\n",
      " 'male' 'female' 'male' 'female' 'female' 'male' 'male' 'female' 'male'\n",
      " 'male' 'male' 'male' 'male' 'female' 'female' 'male' 'male' 'female'\n",
      " 'female' 'female' 'female' 'male' 'female' 'male' 'female' 'male' 'male'\n",
      " 'female' 'male' 'female' 'male' 'female' 'male' 'male' 'male' 'male'\n",
      " 'female' 'male' 'male' 'female' 'female' 'female' 'female' 'female'\n",
      " 'male' 'male' 'male' 'female' 'male' 'female' 'female' 'male' 'female'\n",
      " 'female' 'male' 'male' 'female' 'female' 'male' 'female' 'female'\n",
      " 'female' 'female' 'male' 'female' 'male' 'male' 'male' 'male' 'male'\n",
      " 'female' 'male' 'male' 'male' 'male' 'female' 'male' 'male' 'female'\n",
      " 'male' 'female']\n"
     ]
    }
   ],
   "source": [
    "sex_variable = [\"male\", \"female\"]\n",
    "sex = np.random.choice(sex_variable, size=100)\n",
    "print(sex)"
   ]
  },
  {
   "cell_type": "markdown",
   "metadata": {},
   "source": [
    "Now we can see how many of those 100 samples are male and how many are female with the following code block:"
   ]
  },
  {
   "cell_type": "code",
   "execution_count": 11,
   "metadata": {},
   "outputs": [
    {
     "name": "stdout",
     "output_type": "stream",
     "text": [
      "Total 'male': 56\n",
      "Total 'female': 44\n"
     ]
    }
   ],
   "source": [
    "male_count = np.count_nonzero(sex == \"male\")\n",
    "female_count = np.count_nonzero(sex == \"female\")\n",
    "\n",
    "print(f\"Total 'male': {male_count}\")\n",
    "print(f\"Total 'female': {female_count}\")"
   ]
  },
  {
   "cell_type": "markdown",
   "metadata": {},
   "source": [
    "We have then that under equiprobability conditions, i.e., both have the same probability of coming out (like flipping a coin), we obtain that 56% of the observations are male and 44% are female.  \n",
    "In this case we are going to generate a graph with the previous results to see their probability distribution."
   ]
  },
  {
   "cell_type": "code",
   "execution_count": 12,
   "metadata": {},
   "outputs": [
    {
     "data": {
      "image/png": "[encoded data removed]",
      "text/plain": [
       "<Figure size 640x480 with 1 Axes>"
      ]
     },
     "metadata": {},
     "output_type": "display_data"
    }
   ],
   "source": [
    "plt.hist(sex, bins=2, color=\"red\", alpha=0.4)\n",
    "plt.title(\"Unequal Probability (56% male, 44% female)\")\n",
    "plt.xlabel(\"Sex\")\n",
    "plt.ylabel(\"Frequency\")\n",
    "\n",
    "plt.show()"
   ]
  },
  {
   "cell_type": "markdown",
   "metadata": {},
   "source": [
    "Generating 100 equiprobability observations we obtain the previous visualisation. "
   ]
  },
  {
   "cell_type": "markdown",
   "metadata": {},
   "source": [
    "However, if we generate this variable with n= 10.000, it will generate a graph with a higher uniformity."
   ]
  },
  {
   "cell_type": "code",
   "execution_count": 13,
   "metadata": {},
   "outputs": [
    {
     "data": {
      "image/png": "[encoded data removed]",
      "text/plain": [
       "<Figure size 640x480 with 1 Axes>"
      ]
     },
     "metadata": {},
     "output_type": "display_data"
    }
   ],
   "source": [
    "sex_variable = [\"male\", \"female\"]\n",
    "sex2 = np.random.choice(sex_variable, size=10000)\n",
    "\n",
    "plt.hist(sex2, bins=2, color=\"orange\", alpha=0.4)\n",
    "plt.title(\"Uniform distribution\")\n",
    "plt.xlabel(\"Sex\")\n",
    "plt.ylabel(\"Frequency\")\n",
    "\n",
    "plt.show()"
   ]
  },
  {
   "cell_type": "markdown",
   "metadata": {},
   "source": [
    "So the conclusion we draw is that dichotomous variables such as sex, true/false present a uniform distribution that becomes more visible as the sample size increases and with the necessary condition of equiprobability when generating that sample.\n",
    "\n",
    "For the creation of our database, we will choose the variable sex, which is 56% male and 44% female."
   ]
  },
  {
   "cell_type": "markdown",
   "metadata": {},
   "source": [
    "## **Smoker**"
   ]
  },
  {
   "cell_type": "markdown",
   "metadata": {},
   "source": [
    "The variable \"smoker\" is a categorical variable that represents the smoking habit, with two distinct categories: \"yes\" and \"no\".\n",
    "This variable provides a non-continuous distinction between two discrete states: smoking (\"yes\") or not smoking (\"no\").\n",
    "\n",
    "To generate a sample of the smoking population, the following survey [7] provides data to replicate this behaviour, indicating differences in smoking by gender.\n",
    "This means that in this project the variable \"smoker\" will be influenced by the variable \"gender\", i.e. the variable \"smoker\" will be a dependent variable on the variable \"gender\".\n",
    "\n"
   ]
  },
  {
   "cell_type": "markdown",
   "metadata": {},
   "source": [
    "The information is presented in the following table:\n"
   ]
  },
  {
   "cell_type": "markdown",
   "metadata": {},
   "source": [
    "|        | Yes   | No    |\n",
    "|--------|-------|-------|\n",
    "| Female | 16.4% | 83.6% |\n",
    "| Male   | 23.3% | 76.7% |"
   ]
  },
  {
   "cell_type": "markdown",
   "metadata": {},
   "source": [
    "To generate our variable, we take into account that for the sample of n= 100, with the \"random.choice\" functionality, the sex variable gave us the result of men = 56 and women = 44."
   ]
  },
  {
   "cell_type": "code",
   "execution_count": 14,
   "metadata": {},
   "outputs": [
    {
     "name": "stdout",
     "output_type": "stream",
     "text": [
      "['yes' 'no' 'no' 'no' 'no' 'no' 'no' 'no' 'no' 'yes' 'yes' 'no' 'no' 'no'\n",
      " 'no' 'no' 'yes' 'no' 'no' 'no' 'no' 'no' 'yes' 'no' 'no' 'no' 'no' 'no'\n",
      " 'no' 'no' 'no' 'no' 'yes' 'no' 'no' 'yes' 'no' 'no' 'yes' 'no' 'no' 'no'\n",
      " 'yes' 'yes' 'yes' 'no' 'yes' 'no' 'yes' 'no' 'no' 'no' 'no' 'no' 'no'\n",
      " 'no' 'yes' 'yes' 'yes' 'no' 'no' 'no' 'no' 'no' 'no' 'no' 'no' 'no' 'no'\n",
      " 'no' 'no' 'no' 'no' 'no' 'no' 'no' 'no' 'no' 'no' 'no' 'no' 'no' 'yes'\n",
      " 'no' 'yes' 'no' 'yes' 'no' 'no' 'no' 'no' 'no' 'no' 'no' 'yes' 'no' 'no'\n",
      " 'no' 'no' 'no']\n"
     ]
    }
   ],
   "source": [
    "\n",
    "men_size = 56\n",
    "women_size = 44\n",
    "\n",
    "prob_men = 0.233\n",
    "prob_women = 0.164\n",
    "\n",
    "smoker_men = np.random.choice([\"yes\", \"no\"], size=men_size, p=[prob_men, 1 - prob_men])  # the p probability of\"yes\" is: 23.3 and \"no\":76.7\n",
    "smoker_women = np.random.choice([\"yes\", \"no\"], size=women_size, p=[prob_women, 1 - prob_women]) # the p probability of \"yes\" : 16.4 and \"no\":83.6\n",
    "\n",
    "smoker = np.concatenate([smoker_men, smoker_women])    # combine both smokers variables into one\n",
    "\n",
    "print(smoker)"
   ]
  },
  {
   "cell_type": "markdown",
   "metadata": {},
   "source": [
    "We now have our smoker variable generated.\n",
    "We can see how many of the sample are smokers and how many are non-smokers with the following code:"
   ]
  },
  {
   "cell_type": "code",
   "execution_count": 15,
   "metadata": {},
   "outputs": [
    {
     "name": "stdout",
     "output_type": "stream",
     "text": [
      "Frequency of 'yes': 20\n",
      "Frequency of 'no' : 80\n"
     ]
    }
   ],
   "source": [
    "smoker_yes_count = np.count_nonzero(smoker == \"yes\")\n",
    "smoker_no_count = np.count_nonzero(smoker == \"no\")\n",
    "\n",
    "print(f\"Frequency of 'yes': {smoker_yes_count}\")\n",
    "print(f\"Frequency of 'no' : {smoker_no_count}\")"
   ]
  },
  {
   "cell_type": "markdown",
   "metadata": {},
   "source": [
    "As with the previous variables, we will plot the result obtained:"
   ]
  },
  {
   "cell_type": "code",
   "execution_count": 16,
   "metadata": {},
   "outputs": [
    {
     "data": {
      "image/png": "[encoded data removed]",
      "text/plain": [
       "<Figure size 640x480 with 1 Axes>"
      ]
     },
     "metadata": {},
     "output_type": "display_data"
    }
   ],
   "source": [
    "plt.hist(smoker, bins=2, color=\"black\", alpha=0.7)\n",
    "\n",
    "plt.xlabel(\"Smoking status\")\n",
    "plt.ylabel(\"Frequency\")\n",
    "plt.title(\"Distribution of Smoking status\")\n",
    "\n",
    "plt.show()"
   ]
  },
  {
   "cell_type": "markdown",
   "metadata": {},
   "source": [
    "Unlike the sex variable, the difference between yes and no is evident. This leads us to think that this distribution may follow a binomial distribution. "
   ]
  },
  {
   "cell_type": "markdown",
   "metadata": {},
   "source": [
    "## **Occupation**"
   ]
  },
  {
   "cell_type": "markdown",
   "metadata": {},
   "source": [
    "By occupation we mean what type of work the sample variables have. A manual job (e.g. waiter, labourer) implies more movement, while a non-manual job (e.g. receptionist or accountant) implies a more sedentary job. \n",
    "This distinction is important as this variable will influence the variable number of steps.  \n",
    "\n"
   ]
  },
  {
   "cell_type": "markdown",
   "metadata": {},
   "source": [
    "In the following link[8], we can see several activity surveys which indicate that an estimated 30% of labor activity can be considered manual and the remaining 70% can be considered non-manual.  \n",
    "\n",
    "Based on this result, we will generate what percentage of our sample with 100 observations belongs to each category."
   ]
  },
  {
   "cell_type": "code",
   "execution_count": 17,
   "metadata": {},
   "outputs": [
    {
     "name": "stdout",
     "output_type": "stream",
     "text": [
      "['no_manual' 'no_manual' 'no_manual' 'no_manual' 'no_manual' 'no_manual'\n",
      " 'manual' 'manual' 'manual' 'no_manual' 'no_manual' 'manual' 'no_manual'\n",
      " 'manual' 'no_manual' 'manual' 'manual' 'no_manual' 'no_manual'\n",
      " 'no_manual' 'no_manual' 'manual' 'no_manual' 'manual' 'no_manual'\n",
      " 'manual' 'no_manual' 'no_manual' 'no_manual' 'no_manual' 'manual'\n",
      " 'no_manual' 'no_manual' 'manual' 'manual' 'no_manual' 'manual'\n",
      " 'no_manual' 'manual' 'no_manual' 'no_manual' 'manual' 'manual'\n",
      " 'no_manual' 'no_manual' 'no_manual' 'no_manual' 'no_manual' 'no_manual'\n",
      " 'manual' 'no_manual' 'manual' 'manual' 'no_manual' 'no_manual'\n",
      " 'no_manual' 'manual' 'no_manual' 'manual' 'no_manual' 'no_manual'\n",
      " 'no_manual' 'manual' 'no_manual' 'no_manual' 'no_manual' 'no_manual'\n",
      " 'no_manual' 'no_manual' 'no_manual' 'no_manual' 'no_manual' 'manual'\n",
      " 'no_manual' 'manual' 'manual' 'no_manual' 'manual' 'no_manual'\n",
      " 'no_manual' 'no_manual' 'no_manual' 'no_manual' 'no_manual' 'manual'\n",
      " 'no_manual' 'no_manual' 'no_manual' 'no_manual' 'no_manual' 'no_manual'\n",
      " 'manual' 'no_manual' 'no_manual' 'no_manual' 'no_manual' 'no_manual'\n",
      " 'no_manual' 'manual' 'manual']\n"
     ]
    }
   ],
   "source": [
    "occupation_choices = [\"manual\", \"no_manual\"]\n",
    "probabilities = [0.3, 0.7] \n",
    "\n",
    "occupation = np.random.choice(occupation_choices, size=100, p=probabilities)\n",
    "print(occupation)"
   ]
  },
  {
   "cell_type": "markdown",
   "metadata": {},
   "source": [
    "We use np.count_nonzero again to count the number of observations with each characteristic:"
   ]
  },
  {
   "cell_type": "code",
   "execution_count": 18,
   "metadata": {},
   "outputs": [
    {
     "name": "stdout",
     "output_type": "stream",
     "text": [
      "Total 'manual': 31\n",
      "Total 'no_manual': 69\n"
     ]
    }
   ],
   "source": [
    "manual_count = np.count_nonzero(occupation == \"manual\")\n",
    "non_manual_count = np.count_nonzero(occupation == \"no_manual\")\n",
    "\n",
    "print(f\"Total 'manual': {manual_count}\")\n",
    "print(f\"Total 'no_manual': {non_manual_count}\")"
   ]
  },
  {
   "cell_type": "markdown",
   "metadata": {},
   "source": [
    "Obtained the frequency, we can plot our data:"
   ]
  },
  {
   "cell_type": "code",
   "execution_count": 19,
   "metadata": {},
   "outputs": [
    {
     "data": {
      "image/png": "[encoded data removed]",
      "text/plain": [
       "<Figure size 640x480 with 1 Axes>"
      ]
     },
     "metadata": {},
     "output_type": "display_data"
    }
   ],
   "source": [
    "occupation_choices = [\"manual\",\"no_manual\"]\n",
    "category_counts = [31, 69]\n",
    "\n",
    "plt.bar(occupation_choices, category_counts)\n",
    "plt.xlabel(\"Occupation\")\n",
    "plt.ylabel(\"Frequency\")\n",
    "plt.title(\"Occupation Distribution\")\n",
    "\n",
    "plt.show()"
   ]
  },
  {
   "cell_type": "markdown",
   "metadata": {},
   "source": [
    "Looking at this graph, it has some similarity with the one for smoker, which indicates that it may be a binomial distribution.\n",
    "\n",
    "In this particular case, out of 100 observations, the probability of success p (obtaining \"manual\") is 0.35 and the probability of failure 1-p (obtaining \"non-manual\") is 0.65. "
   ]
  },
  {
   "cell_type": "markdown",
   "metadata": {},
   "source": [
    "Once these variables have been established, the last variable to be established is the number of steps, which will be largely influenced by the previous ones."
   ]
  },
  {
   "cell_type": "markdown",
   "metadata": {},
   "source": [
    "## **Number of daily steps**"
   ]
  },
  {
   "cell_type": "markdown",
   "metadata": {},
   "source": [
    "Once the other variables have been explained, it is time to explain the last one, **number of steps**.\n",
    "\n",
    "This variable corresponds to the average number of daily steps taken by each of the observations. And all of them are influenced by the results of other variables; thus we conclude that the variable number of steps is a dependent variable and variables such as age, sex, smoker or occupation are independent variables."
   ]
  },
  {
   "cell_type": "markdown",
   "metadata": {},
   "source": [
    "The functional relationship can be expressed in general terms as follows:"
   ]
  },
  {
   "cell_type": "markdown",
   "metadata": {},
   "source": [
    "$$ Daily Steps = f(Smoker, Occupation, Age, Gender) $$"
   ]
  },
  {
   "cell_type": "markdown",
   "metadata": {},
   "source": [
    "To generate this variable, we have to establish quantitatively the influence of each variable on the number of steps. \n",
    "\n",
    "A synthesis is shown in the following section: "
   ]
  },
  {
   "cell_type": "markdown",
   "metadata": {},
   "source": [
    "### 1. Steps Relationship between Smokers and Non-Smokers:\n",
    "- Non-smokers take an average of 9,553 steps per day.\n",
    "- Smokers take an average of 7,923 steps per day.\n",
    "\n",
    "### 2.  Influence of Occupation:\n",
    "- For manual jobs, 3200 daily steps are added."
   ]
  },
  {
   "cell_type": "markdown",
   "metadata": {},
   "source": [
    "### 3. Age Distribution:\n",
    "|               | Minimum | Maximum |\n",
    "|---------------|---------|---------|\n",
    "| Under 60 yrs  | 4889    | 11482   |\n",
    "| Over 60 yrs   | 2841    | 10501   |  \n",
    "\n",
    "The average minimum and maximum values are presented for each age group."
   ]
  },
  {
   "cell_type": "markdown",
   "metadata": {},
   "source": [
    "### 4. Gender Distribution:\n",
    "|               | Minimum | Maximum |\n",
    "|---------------|---------|---------|\n",
    "| Men           | 3897    | 11209   |\n",
    "| Women         | 3623    | 11217   |  \n",
    "\n",
    "The average minimum and maximum values are presented for each gender group."
   ]
  },
  {
   "cell_type": "markdown",
   "metadata": {},
   "source": [
    "Finally, based on the information gathered, some assumptions will be introduced to generate the variable **number_of_steps**.\n",
    "To generate this variable, first a **base_steps** is created, influenced by the different factors mentioned above(age,sex,smoker,occupation).\n",
    "Then a random variation will be applied to this base to avoid repeating observations and finally this will result in an array composed of 100 observations of the dependent variable number of steps.\n",
    "\n",
    "The assumptions I list below and affect the base_steps are:\n",
    "\n",
    "1. Gender: The minimum value of average steps of each gender will be taken: 3897 for males and 3623 for females.\n",
    "2. Smoker: If the generated observation belongs to the smoker category, the difference between the means will be subtracted, which is 1630      (non-smoker 9,553 - smoker 7,923).  \n",
    "3. Occupation: An additional 3200 steps will be added to the base in the case of manual job.\n",
    "4. Age : Add to the base 2841 if the obbservation is above 60 years and 4889 otherwise\n",
    "5. To avoid possible repetitions in the observations, we will add a subtraction or addition of 2000 steps to each observation in a random way."
   ]
  },
  {
   "cell_type": "code",
   "execution_count": 20,
   "metadata": {},
   "outputs": [
    {
     "name": "stdout",
     "output_type": "stream",
     "text": [
      "[ 8312 13694 13934 10150 12932 10530  7071 10057  6630 10704  5807  6572\n",
      "  7893 10984  7984 11486  5490  9449  8034  6449 10615  8201 10605  6340\n",
      " 10838  5454  9615  6353 11383  9840 13624  8943  9252  8644  8035  7306\n",
      "  9022 10681 13179  4761  9532 10058 10762 11596 10304  2850 11569  7154\n",
      "  8737 11804 11543  4995  9360 13438  8133  9156  6963 10947 10188  8982\n",
      "  8832 10313  5623  6241  6052  5747  9042  5251  8459 11914  6398 11686\n",
      "  6844 10578  6465 10327  6631  8128  8282 13490  7819  9561 11351  9457\n",
      "  8179 10195  6836  5922 10433  7215 12405  5721  9978  7153  4257  9575\n",
      " 12134  4815  6952 10018]\n"
     ]
    }
   ],
   "source": [
    "def calculate_steps(age, gender, is_smoker, has_manual_job):\n",
    "    base_steps = 0\n",
    "   \n",
    "    if gender == \"male\":\n",
    "        base_steps = base_steps + 3897  \n",
    "    else:\n",
    "        base_steps = base_steps + 3623  \n",
    "    \n",
    "    if is_smoker:\n",
    "        base_steps = base_steps - 1630 \n",
    "    \n",
    "    if has_manual_job:\n",
    "        base_steps = base_steps + 3200  \n",
    "    \n",
    "    if age < 60:\n",
    "        base_steps = base_steps + 4889\n",
    "    else:\n",
    "        base_steps = base_steps + 2841\n",
    "    \n",
    "    return int(base_steps)  # converted to integer\n",
    "\n",
    "def generate_steps(num_steps):  # generates a list of step observations based on certain random characteristics\n",
    "    steps = []\n",
    "    \n",
    "    for _ in range(num_steps):\n",
    "        age = np.random.randint(18, 71)\n",
    "        is_male = np.random.choice([True, False])\n",
    "        is_smoker = np.random.choice([True, False])\n",
    "        has_manual_job = np.random.choice([True, False])\n",
    "        \n",
    "        calculated_steps = calculate_steps(age, \"male\" if is_male else \"female\", is_smoker, has_manual_job) # calculates the base number \n",
    "        variation = np.random.randint(-2000, 2000)  # random variation\n",
    "        steps.append(max(0, calculated_steps + variation))  # Avoid negative steps \n",
    "    \n",
    "    return steps\n",
    "\n",
    "steps_list = generate_steps(100)\n",
    "\n",
    "number_of_steps = np.array(steps_list) # transform list to array\n",
    "\n",
    "print(number_of_steps)"
   ]
  },
  {
   "cell_type": "markdown",
   "metadata": {},
   "source": [
    "We already have our number_of_steps variable. As with the previous ones, I can obtain a series of values such as the mean,\n",
    "the maximum or minimum value, and the standard deviation."
   ]
  },
  {
   "cell_type": "code",
   "execution_count": 21,
   "metadata": {},
   "outputs": [
    {
     "name": "stdout",
     "output_type": "stream",
     "text": [
      "8912\n"
     ]
    }
   ],
   "source": [
    "# Average number of steps of the sample\n",
    "mean_steps = np.mean(number_of_steps)\n",
    "mean_steps_rounded = round(mean_steps)\n",
    "\n",
    "print(mean_steps_rounded)"
   ]
  },
  {
   "cell_type": "code",
   "execution_count": 22,
   "metadata": {},
   "outputs": [
    {
     "name": "stdout",
     "output_type": "stream",
     "text": [
      "2418\n"
     ]
    }
   ],
   "source": [
    "# Standard deviation of the sample\n",
    "std_steps = np.std(number_of_steps)\n",
    "std_steps_rounded = round(std_steps)\n",
    "\n",
    "print(std_steps_rounded)"
   ]
  },
  {
   "cell_type": "code",
   "execution_count": 23,
   "metadata": {},
   "outputs": [
    {
     "name": "stdout",
     "output_type": "stream",
     "text": [
      "The minimum value is: 2850\n",
      "The maximum value is: 13934\n"
     ]
    }
   ],
   "source": [
    "# Minimum and maximum values\n",
    "min_value = min(number_of_steps)\n",
    "max_value = max(number_of_steps)\n",
    "\n",
    "print(f\"The minimum value is: {min_value}\")\n",
    "print(f\"The maximum value is: {max_value}\")"
   ]
  },
  {
   "cell_type": "code",
   "execution_count": 24,
   "metadata": {},
   "outputs": [
    {
     "data": {
      "image/png": "[encoded data removed]",
      "text/plain": [
       "<Figure size 640x480 with 1 Axes>"
      ]
     },
     "metadata": {},
     "output_type": "display_data"
    }
   ],
   "source": [
    "plt.hist(number_of_steps, bins=100, color=\"green\", alpha=0.7)\n",
    "\n",
    "plt.xlabel(\"Number of steps\")\n",
    "plt.ylabel(\"Frequency\")\n",
    "plt.title(\"Distribution of number of steps\")\n",
    "\n",
    "plt.show()"
   ]
  },
  {
   "cell_type": "markdown",
   "metadata": {},
   "source": [
    "We can see that number_of_steps follows a distribution similar to the normal distribution since most of its values are in the center and at the extremes are the observations to a lesser extent."
   ]
  },
  {
   "cell_type": "markdown",
   "metadata": {},
   "source": [
    "Once the variables age,sex,number_of_steps, occupation and smoker are set and defined, we will group them to create our database."
   ]
  },
  {
   "cell_type": "markdown",
   "metadata": {},
   "source": [
    "***\n",
    "## Creation of the database"
   ]
  },
  {
   "cell_type": "markdown",
   "metadata": {},
   "source": [
    "To create our database I will use the pandas library, grouping in a dataframe all the variables."
   ]
  },
  {
   "cell_type": "markdown",
   "metadata": {},
   "source": [
    "Having manipulated the different variables, it is possible that some of them contain a different format than the rest, it is likely that one of the variables has a two-dimensional shape or a different size.  \n",
    "\n",
    "The DataFrame that makes up the database expects each column to have a one-dimensional shape with the same number of elements."
   ]
  },
  {
   "cell_type": "markdown",
   "metadata": {},
   "source": [
    "The following code is used to verify that the forms of each variable are the same."
   ]
  },
  {
   "cell_type": "code",
   "execution_count": 25,
   "metadata": {},
   "outputs": [
    {
     "name": "stdout",
     "output_type": "stream",
     "text": [
      "(100,)\n",
      "(100, 1)\n",
      "(100,)\n",
      "(100,)\n",
      "(100,)\n"
     ]
    }
   ],
   "source": [
    "print(number_of_steps.shape)\n",
    "print(age.shape)\n",
    "print(sex.shape)\n",
    "print(occupation.shape)\n",
    "print(smoker.shape)"
   ]
  },
  {
   "cell_type": "markdown",
   "metadata": {},
   "source": [
    "The variable age has a two-dimensional form (100, 1) and different from the others, you have to transform it to one-dimensional to fit it with the others."
   ]
  },
  {
   "cell_type": "code",
   "execution_count": 26,
   "metadata": {},
   "outputs": [],
   "source": [
    "age_values = age[\"Age\"].to_numpy().flatten()"
   ]
  },
  {
   "cell_type": "code",
   "execution_count": 27,
   "metadata": {},
   "outputs": [
    {
     "name": "stdout",
     "output_type": "stream",
     "text": [
      "(100,)\n"
     ]
    }
   ],
   "source": [
    "print(age_values.shape)"
   ]
  },
  {
   "cell_type": "markdown",
   "metadata": {},
   "source": [
    "Now all variables are in one-dimensional format and can be shaped to create the dataset.  \n",
    "\n",
    "The DataFrame feature of the pandas library is used to create the database.\n",
    "\n",
    "A DataFrame is a two-dimensional data structure (rows and columns) with an index that numbers these rows and columns."
   ]
  },
  {
   "cell_type": "code",
   "execution_count": 28,
   "metadata": {},
   "outputs": [
    {
     "name": "stdout",
     "output_type": "stream",
     "text": [
      "    Number of Steps  Age     Sex Occupation Smoker\n",
      "0              8312   45    male  no_manual    yes\n",
      "1             13694   24    male  no_manual     no\n",
      "2             13934   31    male  no_manual     no\n",
      "3             10150   45    male  no_manual     no\n",
      "4             12932   66    male  no_manual     no\n",
      "..              ...  ...     ...        ...    ...\n",
      "95             9575   39    male  no_manual     no\n",
      "96            12134   62    male  no_manual     no\n",
      "97             4815   19  female  no_manual     no\n",
      "98             6952   51    male     manual     no\n",
      "99            10018   29  female     manual     no\n",
      "\n",
      "[100 rows x 5 columns]\n"
     ]
    }
   ],
   "source": [
    "# Creating a dictionary\n",
    "data = {\n",
    "    \"Number of Steps\": number_of_steps,\n",
    "    \"Age\": age_values,\n",
    "    \"Sex\": sex,\n",
    "    \"Occupation\": occupation,\n",
    "    \"Smoker\": smoker\n",
    "}\n",
    "\n",
    "# Creating the database with dataframe\n",
    "df = pd.DataFrame(data)\n",
    "\n",
    "df[\"Age\"] = df[\"Age\"].astype(int)  # this code is entered later to transform age to integer in the df\n",
    "\n",
    "print(df)"
   ]
  },
  {
   "cell_type": "markdown",
   "metadata": {},
   "source": [
    "## Analysis"
   ]
  },
  {
   "cell_type": "markdown",
   "metadata": {},
   "source": [
    "Now that we have our database imported into a dataframe, we can get information about it.  \n"
   ]
  },
  {
   "cell_type": "markdown",
   "metadata": {},
   "source": [
    "The following code displays information about the quantifiable variables in our dataframe, that is Number of steps and Age.\n",
    "The information is the mean, standard deviation, minimum and maximum value and percentiles."
   ]
  },
  {
   "cell_type": "code",
   "execution_count": 29,
   "metadata": {},
   "outputs": [
    {
     "name": "stdout",
     "output_type": "stream",
     "text": [
      "Statistic Summary: \n",
      "       Number of Steps         Age\n",
      "count       100.000000  100.000000\n",
      "mean       8912.030000   44.020000\n",
      "std        2430.244737   13.871692\n",
      "min        2850.000000    8.000000\n",
      "25%        6925.000000   36.000000\n",
      "50%        9032.000000   44.000000\n",
      "75%       10607.500000   51.000000\n",
      "max       13934.000000   78.000000\n"
     ]
    }
   ],
   "source": [
    "print(\"Statistic Summary: \\r\")\n",
    "print(df.describe()) "
   ]
  },
  {
   "cell_type": "markdown",
   "metadata": {},
   "source": [
    "## Conclusions"
   ]
  },
  {
   "cell_type": "markdown",
   "metadata": {},
   "source": [
    "It does not matter what type of variables we work with, continuous or discrete. \n",
    "The only important thing is that the DataFrame that makes up the database expects each column to have a one-dimensional shape with the same number of elements."
   ]
  },
  {
   "cell_type": "markdown",
   "metadata": {},
   "source": [
    "## References\n",
    "\n",
    "[1] https://education.nationalgeographic.org/resource/hadza/  \n",
    "[2] https://www.nature.com/articles/s41562-020-01002-7  \n",
    "[3] https://www.niddk.nih.gov/health-information/health-statistics/overweight-obesity  \n",
    "[4] https://ajcn.nutrition.org/article/S0002-9165(23)23351-1/fulltext  \n",
    "[5] https://news.stanford.edu/2014/04/24/walking-vs-sitting-042414/  \n",
    "[6] https://www.thelancet.com/journals/lanpub/article/PIIS2468-2667(21)00302-9/fulltext#seccestitle140  \n",
    "[7] https://www.ine.es/dyngs/INEbase/es/operacion.htm?c=Estadistica_C&cid=1254736176784&menu=resultados&idp=1254735573175  \n",
    "[8] https://ine.es/ss/Satellite?param1=PYSDetalle&c=INESeccion_C&param3=1259924822888&p=%5C&pagename=ProductosYServicios%2FPYSLayout&cid=1259931459725&L=0  \n",
    "\n"
   ]
  }
 ],
 "metadata": {
  "kernelspec": {
   "display_name": "base",
   "language": "python",
   "name": "python3"
  },
  "language_info": {
   "codemirror_mode": {
    "name": "ipython",
    "version": 3
   },
   "file_extension": ".py",
   "mimetype": "text/x-python",
   "name": "python",
   "nbconvert_exporter": "python",
   "pygments_lexer": "ipython3",
   "version": "3.10.13"
  }
 },
 "nbformat": 4,
 "nbformat_minor": 2
}
